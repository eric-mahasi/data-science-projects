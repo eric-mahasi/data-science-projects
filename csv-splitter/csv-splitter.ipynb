{
 "cells": [
  {
   "cell_type": "code",
   "execution_count": 23,
   "metadata": {},
   "outputs": [],
   "source": [
    "from pathlib import Path\n",
    "Path(\"split_files\").mkdir(parents=True, exist_ok=True)"
   ]
  },
  {
   "cell_type": "code",
   "execution_count": 24,
   "metadata": {},
   "outputs": [],
   "source": [
    "chunk_size = 5000\n",
    "def write_chunk(part, lines):\n",
    "    with open('split_files/data_part_'+ str(part) +'.csv', 'w') as f_out:\n",
    "        f_out.write(header)\n",
    "        f_out.writelines(lines)"
   ]
  },
  {
   "cell_type": "code",
   "execution_count": 22,
   "metadata": {},
   "outputs": [],
   "source": [
    "with open(\"sample_data.csv\", \"r\") as f:\n",
    "    count = 0\n",
    "    header = f.readline()\n",
    "    lines = []\n",
    "    for line in f:\n",
    "        count += 1\n",
    "        lines.append(line)\n",
    "        if count % chunk_size == 0:\n",
    "            write_chunk(count // chunk_size, lines)\n",
    "            lines = []\n",
    "    # write remainder\n",
    "    if len(lines) > 0:\n",
    "        write_chunk((count // chunk_size) + 1, lines)"
   ]
  }
 ],
 "metadata": {
  "kernelspec": {
   "display_name": "Python 3.10.6 ('minimal_ds')",
   "language": "python",
   "name": "python3"
  },
  "language_info": {
   "codemirror_mode": {
    "name": "ipython",
    "version": 3
   },
   "file_extension": ".py",
   "mimetype": "text/x-python",
   "name": "python",
   "nbconvert_exporter": "python",
   "pygments_lexer": "ipython3",
   "version": "3.10.6"
  },
  "orig_nbformat": 4,
  "vscode": {
   "interpreter": {
    "hash": "447850f692e99dc9060b2b0e768e9386bbd5511bdbd5882dc07093fd5c8e3dfa"
   }
  }
 },
 "nbformat": 4,
 "nbformat_minor": 2
}
